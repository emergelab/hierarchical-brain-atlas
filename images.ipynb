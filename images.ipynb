{
 "cells": [
  {
   "cell_type": "markdown",
   "metadata": {},
   "source": [
    "# Converting hierarchical brain atlas from MNI152NLin6ASym to MNI152NLin2009cASym space\n",
    "This notebook will convert the hierarchical brain atlas into MNI152NLin2009cASym space since it is the space used by fmriprep and qsiprep. We will produce both 1mm and 2mm voxel space. This will harmonize all analyses."
   ]
  },
  {
   "cell_type": "code",
   "execution_count": 9,
   "metadata": {},
   "outputs": [],
   "source": [
    "from pathlib import Path\n",
    "import requests\n",
    "import nibabel as nib\n",
    "import ants\n",
    "import pandas as pd"
   ]
  },
  {
   "cell_type": "markdown",
   "metadata": {},
   "source": [
    "## Download the necessary files from templateflow\n",
    "We will download the T1w in 2mm voxel and the transformation files from templateflow."
   ]
  },
  {
   "cell_type": "code",
   "execution_count": 26,
   "metadata": {},
   "outputs": [
    {
     "name": "stdout",
     "output_type": "stream",
     "text": [
      "Downloading tpl-MNI152NLin2009cAsym_res-01_desc-brain_T1w.nii.gz...\n",
      "Downloading tpl-MNI152NLin2009cAsym_res-02_desc-brain_T1w.nii.gz...\n",
      "Downloading tpl-MNI152NLin2009cAsym_from-MNI152NLin6Asym_mode-image_xfm.h5...\n"
     ]
    }
   ],
   "source": [
    "files = [\n",
    "    \"https://templateflow.s3.amazonaws.com/tpl-MNI152NLin2009cAsym/tpl-MNI152NLin2009cAsym_res-01_desc-brain_T1w.nii.gz\",\n",
    "    \"https://templateflow.s3.amazonaws.com/tpl-MNI152NLin2009cAsym/tpl-MNI152NLin2009cAsym_res-02_desc-brain_T1w.nii.gz\",\n",
    "    \"https://templateflow.s3.amazonaws.com/tpl-MNI152NLin2009cAsym/tpl-MNI152NLin2009cAsym_from-MNI152NLin6Asym_mode-image_xfm.h5\",\n",
    "]\n",
    "\n",
    "for file in files:\n",
    "    fname = file.split(\"/\")[-1]\n",
    "    print(f\"Downloading {fname}...\")\n",
    "    with open(f\"./data/{fname}\", \"wb\") as f:\n",
    "        response = requests.get(file)\n",
    "        f.write(response.content)"
   ]
  },
  {
   "cell_type": "markdown",
   "metadata": {},
   "source": [
    "## Transform the atlas into MNI152NLin2009cASym space"
   ]
  },
  {
   "cell_type": "code",
   "execution_count": 2,
   "metadata": {},
   "outputs": [],
   "source": [
    "atlases = [\n",
    "    \"./data/A424.nii.gz\",\n",
    "    \"./data/A424+2mm.nii.gz\",\n",
    "    \"./data/A424+4mm.nii.gz\",\n",
    "    \"./data/A424+n90merged.nii.gz\",\n",
    "]"
   ]
  },
  {
   "cell_type": "code",
   "execution_count": 4,
   "metadata": {},
   "outputs": [
    {
     "name": "stdout",
     "output_type": "stream",
     "text": [
      "['-d', '3', '-i', '0x12f077468', '-o', '0x12ecfe7c8', '-r', '0x12d486d88', '-n', 'genericLabel', '-t', './data/tpl-MNI152NLin2009cAsym_from-MNI152NLin6Asym_mode-image_xfm.h5']\n",
      "Using double precision for computations.\n",
      "Input scalar image: 0x12f077468\n",
      "Could not create ImageIO for the input file, assuming dimension = 3 and scalar pixel type\n",
      "Reference image: 0x12d486d88\n",
      "=============================================================================\n",
      "The composite transform comprises the following transforms (in order): \n",
      "  1. ./data/tpl-MNI152NLin2009cAsym_from-MNI152NLin6Asym_mode-image_xfm.h5[0] (type = AffineTransform)\n",
      "  2. ./data/tpl-MNI152NLin2009cAsym_from-MNI152NLin6Asym_mode-image_xfm.h5[1] (type = DisplacementFieldTransform)\n",
      "=============================================================================\n",
      "Default pixel value: 0\n",
      "Interpolation type: LabelImageGenericInterpolateImageFunction\n",
      "Output warped image: 0x12ecfe7c8\n",
      "['-d', '3', '-i', '0x12f0b77c8', '-o', '0x12f0b7648', '-r', '0x10961ee08', '-n', 'genericLabel', '-t', './data/tpl-MNI152NLin2009cAsym_from-MNI152NLin6Asym_mode-image_xfm.h5']\n",
      "Using double precision for computations.\n",
      "Input scalar image: 0x12f0b77c8\n",
      "Could not create ImageIO for the input file, assuming dimension = 3 and scalar pixel type\n",
      "Reference image: 0x10961ee08\n",
      "=============================================================================\n",
      "The composite transform comprises the following transforms (in order): \n",
      "  1. ./data/tpl-MNI152NLin2009cAsym_from-MNI152NLin6Asym_mode-image_xfm.h5[0] (type = AffineTransform)\n",
      "  2. ./data/tpl-MNI152NLin2009cAsym_from-MNI152NLin6Asym_mode-image_xfm.h5[1] (type = DisplacementFieldTransform)\n",
      "=============================================================================\n",
      "Default pixel value: 0\n",
      "Interpolation type: LabelImageGenericInterpolateImageFunction\n",
      "Output warped image: 0x12f0b7648\n",
      "['-d', '3', '-i', '0x12f0b6b88', '-o', '0x12f0b78c8', '-r', '0x12ecfe7c8', '-n', 'genericLabel', '-t', './data/tpl-MNI152NLin2009cAsym_from-MNI152NLin6Asym_mode-image_xfm.h5']\n",
      "Using double precision for computations.\n",
      "Input scalar image: 0x12f0b6b88\n",
      "Could not create ImageIO for the input file, assuming dimension = 3 and scalar pixel type\n",
      "Reference image: 0x12ecfe7c8\n",
      "=============================================================================\n",
      "The composite transform comprises the following transforms (in order): \n",
      "  1. ./data/tpl-MNI152NLin2009cAsym_from-MNI152NLin6Asym_mode-image_xfm.h5[0] (type = AffineTransform)\n",
      "  2. ./data/tpl-MNI152NLin2009cAsym_from-MNI152NLin6Asym_mode-image_xfm.h5[1] (type = DisplacementFieldTransform)\n",
      "=============================================================================\n",
      "Default pixel value: 0\n",
      "Interpolation type: LabelImageGenericInterpolateImageFunction\n",
      "Output warped image: 0x12f0b78c8\n",
      "['-d', '3', '-i', '0x12f0b77c8', '-o', '0x12f0b7868', '-r', '0x12f0b7648', '-n', 'genericLabel', '-t', './data/tpl-MNI152NLin2009cAsym_from-MNI152NLin6Asym_mode-image_xfm.h5']\n",
      "Using double precision for computations.\n",
      "Input scalar image: 0x12f0b77c8\n",
      "Could not create ImageIO for the input file, assuming dimension = 3 and scalar pixel type\n",
      "Reference image: 0x12f0b7648\n",
      "=============================================================================\n",
      "The composite transform comprises the following transforms (in order): \n",
      "  1. ./data/tpl-MNI152NLin2009cAsym_from-MNI152NLin6Asym_mode-image_xfm.h5[0] (type = AffineTransform)\n",
      "  2. ./data/tpl-MNI152NLin2009cAsym_from-MNI152NLin6Asym_mode-image_xfm.h5[1] (type = DisplacementFieldTransform)\n",
      "=============================================================================\n",
      "Default pixel value: 0\n",
      "Interpolation type: LabelImageGenericInterpolateImageFunction\n",
      "Output warped image: 0x12f0b7868\n",
      "['-d', '3', '-i', '0x12f0b7948', '-o', '0x12f0b7ba8', '-r', '0x12f077468', '-n', 'genericLabel', '-t', './data/tpl-MNI152NLin2009cAsym_from-MNI152NLin6Asym_mode-image_xfm.h5']\n",
      "Using double precision for computations.\n",
      "Input scalar image: 0x12f0b7948\n",
      "Could not create ImageIO for the input file, assuming dimension = 3 and scalar pixel type\n",
      "Reference image: 0x12f077468\n",
      "=============================================================================\n",
      "The composite transform comprises the following transforms (in order): \n",
      "  1. ./data/tpl-MNI152NLin2009cAsym_from-MNI152NLin6Asym_mode-image_xfm.h5[0] (type = AffineTransform)\n",
      "  2. ./data/tpl-MNI152NLin2009cAsym_from-MNI152NLin6Asym_mode-image_xfm.h5[1] (type = DisplacementFieldTransform)\n",
      "=============================================================================\n",
      "Default pixel value: 0\n",
      "Interpolation type: LabelImageGenericInterpolateImageFunction\n",
      "Output warped image: 0x12f0b7ba8\n",
      "['-d', '3', '-i', '0x12f0b7648', '-o', '0x12f0b7b48', '-r', '0x12d486d88', '-n', 'genericLabel', '-t', './data/tpl-MNI152NLin2009cAsym_from-MNI152NLin6Asym_mode-image_xfm.h5']\n",
      "Using double precision for computations.\n",
      "Input scalar image: 0x12f0b7648\n",
      "Could not create ImageIO for the input file, assuming dimension = 3 and scalar pixel type\n",
      "Reference image: 0x12d486d88\n",
      "=============================================================================\n",
      "The composite transform comprises the following transforms (in order): \n",
      "  1. ./data/tpl-MNI152NLin2009cAsym_from-MNI152NLin6Asym_mode-image_xfm.h5[0] (type = AffineTransform)\n",
      "  2. ./data/tpl-MNI152NLin2009cAsym_from-MNI152NLin6Asym_mode-image_xfm.h5[1] (type = DisplacementFieldTransform)\n",
      "=============================================================================\n",
      "Default pixel value: 0\n",
      "Interpolation type: LabelImageGenericInterpolateImageFunction\n",
      "Output warped image: 0x12f0b7b48\n",
      "['-d', '3', '-i', '0x12e4ba908', '-o', '0x12f0b6b88', '-r', '0x10961ee08', '-n', 'genericLabel', '-t', './data/tpl-MNI152NLin2009cAsym_from-MNI152NLin6Asym_mode-image_xfm.h5']\n",
      "Using double precision for computations.\n",
      "Input scalar image: 0x12e4ba908\n",
      "Could not create ImageIO for the input file, assuming dimension = 3 and scalar pixel type\n",
      "Reference image: 0x10961ee08\n",
      "=============================================================================\n",
      "The composite transform comprises the following transforms (in order): \n",
      "  1. ./data/tpl-MNI152NLin2009cAsym_from-MNI152NLin6Asym_mode-image_xfm.h5[0] (type = AffineTransform)\n",
      "  2. ./data/tpl-MNI152NLin2009cAsym_from-MNI152NLin6Asym_mode-image_xfm.h5[1] (type = DisplacementFieldTransform)\n",
      "=============================================================================\n",
      "Default pixel value: 0\n",
      "Interpolation type: LabelImageGenericInterpolateImageFunction\n",
      "Output warped image: 0x12f0b6b88\n",
      "['-d', '3', '-i', '0x12f0b6aa8', '-o', '0x12f0b7948', '-r', '0x12e4ba908', '-n', 'genericLabel', '-t', './data/tpl-MNI152NLin2009cAsym_from-MNI152NLin6Asym_mode-image_xfm.h5']\n",
      "Using double precision for computations.\n",
      "Input scalar image: 0x12f0b6aa8\n",
      "Could not create ImageIO for the input file, assuming dimension = 3 and scalar pixel type\n",
      "Reference image: 0x12e4ba908\n",
      "=============================================================================\n",
      "The composite transform comprises the following transforms (in order): \n",
      "  1. ./data/tpl-MNI152NLin2009cAsym_from-MNI152NLin6Asym_mode-image_xfm.h5[0] (type = AffineTransform)\n",
      "  2. ./data/tpl-MNI152NLin2009cAsym_from-MNI152NLin6Asym_mode-image_xfm.h5[1] (type = DisplacementFieldTransform)\n",
      "=============================================================================\n",
      "Default pixel value: 0\n",
      "Interpolation type: LabelImageGenericInterpolateImageFunction\n",
      "Output warped image: 0x12f0b7948\n"
     ]
    }
   ],
   "source": [
    "transform = \"./data/tpl-MNI152NLin2009cAsym_from-MNI152NLin6Asym_mode-image_xfm.h5\"\n",
    "resolutions = [\"01\", \"02\"]\n",
    "\n",
    "for resolution in resolutions:\n",
    "    space = f\"space-MNI152NLin2009cAsym_res-{resolution}\"\n",
    "    fixed = ants.image_read(f\"./data/tpl-MNI152NLin2009cAsym_res-{resolution}_desc-brain_T1w.nii.gz\")\n",
    "\n",
    "    for atlas in atlases:\n",
    "        atlas_name = atlas.split(\"/\")[-1].replace(\".nii.gz\", \"\")\n",
    "        out_path = Path(f\"{atlas_name}\")\n",
    "        out_path.mkdir(parents=True, exist_ok=True)\n",
    "\n",
    "        if atlas_name.startswith(\"A424+\"):\n",
    "            atlas_name, desc_suffix = atlas_name.split(\"+\")\n",
    "            desc_suffix = f\"_desc-{desc_suffix}\"\n",
    "        else:\n",
    "            desc_suffix = \"\"\n",
    "\n",
    "        out_name = f\"atlas-{atlas_name}_{space}{desc_suffix}_dseg.nii.gz\"\n",
    "\n",
    "        moving = ants.image_read(atlas)\n",
    "        warped_image = ants.apply_transforms(fixed=fixed, moving=moving, transformlist=transform, interpolator=\"genericLabel\", verbose=True)\n",
    "        warped_image.image_write(str(out_path / out_name))"
   ]
  },
  {
   "cell_type": "markdown",
   "metadata": {},
   "source": [
    "## Process metadata into corresponding tsv and json sidecars"
   ]
  },
  {
   "cell_type": "code",
   "execution_count": 10,
   "metadata": {},
   "outputs": [],
   "source": [
    "df = pd.read_csv(\"./data/A424_Labels_AA-AAc_main_maps.csv\",)\n",
    "df = df[['A424', 'Nodes', 'ROI']]\n",
    "df.columns = ['index', 'label', 'region_name']"
   ]
  },
  {
   "cell_type": "code",
   "execution_count": 11,
   "metadata": {},
   "outputs": [],
   "source": [
    "json_sidecar = {\n",
    "    \"Name\": \"A424\",\n",
    "    \"Authors\": [\n",
    "        \"Chadi G. Abdallah\",\n",
    "        \"Teddy J. Akiki\",\n",
    "    ],\n",
    "    \"BIDSVersion\": \"1.10.0\",\n",
    "    \"Description\": \"A424 atlas in MNI152NLin2009cAsym space\",\n",
    "}"
   ]
  },
  {
   "cell_type": "code",
   "execution_count": 12,
   "metadata": {},
   "outputs": [],
   "source": [
    "# bids_name = \"space-MNI152NLin2009cAsym_res-02_dseg\"\n",
    "\n",
    "for resolution in resolutions:\n",
    "    space = f\"space-MNI152NLin2009cAsym_res-{resolution}\"\n",
    "\n",
    "    for atlas in atlases:\n",
    "        atlas_name = atlas.split(\"/\")[-1].replace(\".nii.gz\", \"\")\n",
    "        out_path = Path(f\"{atlas_name}\")\n",
    "\n",
    "        if atlas_name.startswith(\"A424+\"):\n",
    "            atlas_name, desc_suffix = atlas_name.split(\"+\")\n",
    "            desc_suffix = f\"desc-{desc_suffix}\"\n",
    "        else:\n",
    "            desc_suffix = \"\"\n",
    "\n",
    "        out_name = f\"atlas-{atlas_name}_{space}_{desc_suffix}_dseg.nii.gz\"\n",
    "\n",
    "        json_sidecar[\"Space\"] = \"MNI152NLin2009cAsym\"\n",
    "        json_sidecar[\"Resolution\"] = f\"{int(resolution)}mm\"\n",
    "        json_sidecar[\"Name\"] = atlas_name\n",
    "\n",
    "        with open(out_path / f\"{out_name}.json\", \"w\") as f:\n",
    "            import json\n",
    "            json.dump(json_sidecar, f, indent=4)\n",
    "\n",
    "        df.to_csv(out_path / f\"{out_name}.tsv\", sep=\"\\t\", index=False)"
   ]
  },
  {
   "cell_type": "code",
   "execution_count": null,
   "metadata": {},
   "outputs": [],
   "source": []
  }
 ],
 "metadata": {
  "kernelspec": {
   "display_name": ".venv",
   "language": "python",
   "name": "python3"
  },
  "language_info": {
   "codemirror_mode": {
    "name": "ipython",
    "version": 3
   },
   "file_extension": ".py",
   "mimetype": "text/x-python",
   "name": "python",
   "nbconvert_exporter": "python",
   "pygments_lexer": "ipython3",
   "version": "3.12.7"
  }
 },
 "nbformat": 4,
 "nbformat_minor": 2
}
